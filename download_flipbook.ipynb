{
  "nbformat": 4,
  "nbformat_minor": 0,
  "metadata": {
    "colab": {
      "provenance": [],
      "authorship_tag": "ABX9TyNnxQpJjcExtPepBr9UBTmu"
    },
    "kernelspec": {
      "name": "python3",
      "display_name": "Python 3"
    },
    "language_info": {
      "name": "python"
    }
  },
  "cells": [
    {
      "cell_type": "code",
      "source": [
        "# Install libraries (jika belum ada)\n",
        "!pip install requests beautifulsoup4 Pillow tqdm"
      ],
      "metadata": {
        "colab": {
          "base_uri": "https://localhost:8080/"
        },
        "id": "HVqpBtz0hFCl",
        "outputId": "ee533f19-80db-43f5-c77d-3b088319078e"
      },
      "execution_count": 1,
      "outputs": [
        {
          "output_type": "stream",
          "name": "stdout",
          "text": [
            "Requirement already satisfied: requests in /usr/local/lib/python3.11/dist-packages (2.32.3)\n",
            "Requirement already satisfied: beautifulsoup4 in /usr/local/lib/python3.11/dist-packages (4.13.4)\n",
            "Requirement already satisfied: Pillow in /usr/local/lib/python3.11/dist-packages (11.2.1)\n",
            "Requirement already satisfied: tqdm in /usr/local/lib/python3.11/dist-packages (4.67.1)\n",
            "Requirement already satisfied: charset-normalizer<4,>=2 in /usr/local/lib/python3.11/dist-packages (from requests) (3.4.2)\n",
            "Requirement already satisfied: idna<4,>=2.5 in /usr/local/lib/python3.11/dist-packages (from requests) (3.10)\n",
            "Requirement already satisfied: urllib3<3,>=1.21.1 in /usr/local/lib/python3.11/dist-packages (from requests) (2.4.0)\n",
            "Requirement already satisfied: certifi>=2017.4.17 in /usr/local/lib/python3.11/dist-packages (from requests) (2025.4.26)\n",
            "Requirement already satisfied: soupsieve>1.2 in /usr/local/lib/python3.11/dist-packages (from beautifulsoup4) (2.7)\n",
            "Requirement already satisfied: typing-extensions>=4.0.0 in /usr/local/lib/python3.11/dist-packages (from beautifulsoup4) (4.13.2)\n"
          ]
        }
      ]
    },
    {
      "cell_type": "code",
      "source": [
        "# Install dependensi utama\n",
        "!apt-get update > /dev/null\n",
        "!apt-get install -y chromium-chromedriver > /dev/null\n",
        "!pip install selenium pillow tqdm > /dev/null"
      ],
      "metadata": {
        "colab": {
          "base_uri": "https://localhost:8080/"
        },
        "id": "AKl2uUjgj3gd",
        "outputId": "3ca89173-c5c1-4612-f56c-b64a54b23bcc"
      },
      "execution_count": 9,
      "outputs": [
        {
          "output_type": "stream",
          "name": "stdout",
          "text": [
            "W: Skipping acquire of configured file 'main/source/Sources' as repository 'https://r2u.stat.illinois.edu/ubuntu jammy InRelease' does not seem to provide it (sources.list entry misspelt?)\n"
          ]
        }
      ]
    },
    {
      "cell_type": "code",
      "source": [
        "import sys\n",
        "from selenium import webdriver\n",
        "from selenium.webdriver.chrome.options import Options\n",
        "import os\n",
        "from PIL import Image\n",
        "from tqdm import tqdm\n",
        "import time\n"
      ],
      "metadata": {
        "id": "OHY1yxIskrRf"
      },
      "execution_count": 10,
      "outputs": []
    },
    {
      "cell_type": "code",
      "source": [
        "# Konfigurasi browser headless\n",
        "chrome_options = Options()\n",
        "chrome_options.add_argument(\"--headless\")\n",
        "chrome_options.add_argument(\"--no-sandbox\")\n",
        "chrome_options.add_argument(\"--disable-dev-shm-usage\")\n",
        "chrome_options.add_argument(\"--window-size=1280x1800\")\n",
        "\n",
        "# Jalankan browser\n",
        "driver = webdriver.Chrome(options=chrome_options)\n"
      ],
      "metadata": {
        "id": "r7Nq2tyjk14N"
      },
      "execution_count": 11,
      "outputs": []
    },
    {
      "cell_type": "code",
      "source": [
        "# Folder hasil screenshot\n",
        "os.makedirs(\"screenshots\", exist_ok=True)\n",
        "\n",
        "# Ganti sesuai jumlah halaman\n",
        "total_pages = 306\n",
        "\n",
        "# URL dasar\n",
        "base_url = \"https://pat-flipbook.aflip.in/boba-flipbook-(magazine)#page/{}\"\n",
        "\n",
        "for page in tqdm(range(1, total_pages + 1), desc=\"Menyimpan halaman\"):\n",
        "    try:\n",
        "        url = base_url.format(page)\n",
        "        driver.get(url)\n",
        "        time.sleep(2.5)  # Tunggu konten halaman termuat\n",
        "\n",
        "        # Simpan screenshot\n",
        "        file_path = f\"screenshots/page_{page:03}.png\"\n",
        "        driver.save_screenshot(file_path)\n",
        "    except Exception as e:\n",
        "        print(f\"Gagal menyimpan halaman {page}: {e}\")\n"
      ],
      "metadata": {
        "colab": {
          "base_uri": "https://localhost:8080/"
        },
        "id": "jHf-Dr9Tk6Zw",
        "outputId": "cf419295-ba43-4b12-b4d2-5cfe5ad2d14d"
      },
      "execution_count": 12,
      "outputs": [
        {
          "output_type": "stream",
          "name": "stderr",
          "text": [
            "Menyimpan halaman: 100%|██████████| 306/306 [13:07<00:00,  2.57s/it]\n"
          ]
        }
      ]
    },
    {
      "cell_type": "code",
      "source": [
        "# Ambil semua screenshot dan ubah jadi PDF\n",
        "image_files = sorted([f\"screenshots/{f}\" for f in os.listdir(\"screenshots\") if f.endswith(\".png\")])\n",
        "\n",
        "images = [Image.open(img).convert(\"RGB\") for img in image_files]\n",
        "if images:\n",
        "    pdf_path = \"flipbook_boba.pdf\"\n",
        "    images[0].save(pdf_path, save_all=True, append_images=images[1:])\n",
        "    print(f\"✅ PDF berhasil disimpan: {pdf_path}\")\n",
        "else:\n",
        "    print(\"❌ Tidak ada gambar ditemukan.\")\n"
      ],
      "metadata": {
        "colab": {
          "base_uri": "https://localhost:8080/"
        },
        "id": "TkWmxGnPlB4v",
        "outputId": "d6304c00-377c-424e-cc95-863ecb02c571"
      },
      "execution_count": 13,
      "outputs": [
        {
          "output_type": "stream",
          "name": "stdout",
          "text": [
            "✅ PDF berhasil disimpan: flipbook_boba.pdf\n"
          ]
        }
      ]
    }
  ]
}